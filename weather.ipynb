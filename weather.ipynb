{
 "cells": [
  {
   "cell_type": "code",
   "execution_count": 2,
   "id": "cf4d190d",
   "metadata": {},
   "outputs": [
    {
     "name": "stdout",
     "output_type": "stream",
     "text": [
      "         Date  Temperature  Rainfall  Humidity  WindSpeed\n",
      "0  2023-01-01           15       2.0        60         12\n",
      "1  2023-01-02           16       0.0        65         14\n",
      "2  2023-01-03           14       5.5        70         11\n",
      "3  2023-01-04           20       0.0        55          9\n",
      "4  2023-01-05           22       1.0        50          8\n",
      "5  2023-01-06           18       3.0        58         10\n",
      "6  2023-01-07           25       0.0        45         15\n",
      "7  2023-01-08           19       4.5        62         13\n",
      "8  2023-01-09           17       0.0        68         12\n",
      "9  2023-01-10           21       2.2        53          9\n"
     ]
    }
   ],
   "source": [
    "import pandas as pd\n",
    "import numpy as np\n",
    "w=pd.read_csv(\"weather_data.csv\")\n",
    "print(w)"
   ]
  },
  {
   "cell_type": "code",
   "execution_count": 3,
   "id": "37a57aa4",
   "metadata": {},
   "outputs": [
    {
     "name": "stdout",
     "output_type": "stream",
     "text": [
      "Average Temperature\n",
      "18.7\n"
     ]
    }
   ],
   "source": [
    "print(\"Average Temperature\")\n",
    "avg_temp=np.mean(w[\"Temperature\"])\n",
    "print(avg_temp)"
   ]
  },
  {
   "cell_type": "code",
   "execution_count": 4,
   "id": "72598eaf",
   "metadata": {},
   "outputs": [
    {
     "name": "stdout",
     "output_type": "stream",
     "text": [
      "Variation is:\n",
      "10.41\n"
     ]
    }
   ],
   "source": [
    "print(\"Variation is:\")\n",
    "var=np.var(w[\"Temperature\"])\n",
    "print(var)"
   ]
  },
  {
   "cell_type": "code",
   "execution_count": 9,
   "id": "774157c4",
   "metadata": {},
   "outputs": [
    {
     "name": "stdout",
     "output_type": "stream",
     "text": [
      "Correlation is:\n",
      "[[1.         0.16335573]\n",
      " [0.16335573 1.        ]]\n"
     ]
    }
   ],
   "source": [
    "print(\"Correlation is:\")\n",
    "cor=np.corrcoef(w[\"Humidity\"],w[\"WindSpeed\"])\n",
    "print(cor)"
   ]
  },
  {
   "cell_type": "code",
   "execution_count": 20,
   "id": "16550c7d",
   "metadata": {},
   "outputs": [
    {
     "name": "stdout",
     "output_type": "stream",
     "text": [
      "Monthly average:\n",
      "0    22.250\n",
      "1    23.750\n",
      "2    25.125\n",
      "3    21.000\n",
      "4    20.250\n",
      "5    22.250\n",
      "6    21.250\n",
      "7    24.625\n",
      "8    24.250\n",
      "dtype: float64\n"
     ]
    }
   ],
   "source": [
    "print(\"Monthly average:\")\n",
    "mon_avg = w.iloc[0:9][[\"Temperature\", \"Rainfall\", \"Humidity\", \"WindSpeed\"]].mean(axis=1)\n",
    "print(mon_avg)"
   ]
  },
  {
   "cell_type": "code",
   "execution_count": 52,
   "id": "824828eb",
   "metadata": {},
   "outputs": [
    {
     "name": "stdout",
     "output_type": "stream",
     "text": [
      "Hottest and Coldest Day:\n",
      "         Date  Temperature\n",
      "0  2023-01-01           15\n",
      "1  2023-01-02           16\n",
      "2  2023-01-03           14\n",
      "3  2023-01-04           20\n",
      "4  2023-01-05           22\n",
      "5  2023-01-06           18\n",
      "6  2023-01-07           25\n",
      "7  2023-01-08           19\n",
      "8  2023-01-09           17\n",
      "---------------------------------------\n",
      "hottest day is:\n",
      "25°C\n",
      "coldest day is:\n",
      "14°C\n"
     ]
    }
   ],
   "source": [
    "print(\"Hottest and Coldest Day:\")\n",
    "hottest_cooldest = w.iloc[0:9][[\"Date\", \"Temperature\"]]\n",
    "print(hottest_cooldest)\n",
    "\n",
    "# hottest_day = hottest_cooldest.loc[hottest_cooldest[\"Temperature\"].idxmax()]\n",
    "# print(f\"Hottest day: {hottest_day['Date']} with {hottest_day['Temperature']}°C\")\n",
    "\n",
    "# coldest_day = hottest_cooldest.loc[hottest_cooldest[\"Temperature\"].idxmin()]\n",
    "# print(f\"Coldest day: {coldest_day['Date']} with {coldest_day['Temperature']}°C\")\n",
    "\n",
    "print(f\"---------------------------------------\")\n",
    "hottest_day=w[\"Temperature\"].max()\n",
    "print(f\"hottest day is:\\n{hottest_day}°C\")\n",
    "\n",
    "coldest_day=w[\"Temperature\"].min()\n",
    "print(f\"coldest day is:\\n{coldest_day}°C\")"
   ]
  },
  {
   "cell_type": "code",
   "execution_count": null,
   "id": "153ffd3e",
   "metadata": {},
   "outputs": [
    {
     "name": "stdout",
     "output_type": "stream",
     "text": [
      "Rainyfall count:\n",
      ",         Date  Rainfall\n",
      "0  2023-01-01       2.0\n",
      "2  2023-01-03       5.5\n",
      "4  2023-01-05       1.0\n",
      "5  2023-01-06       3.0\n",
      "7  2023-01-08       4.5\n",
      "9  2023-01-10       2.2\n"
     ]
    }
   ],
   "source": [
    "print(\"Rainyfall count:\")\n",
    "rainyfall=w[w[\"Rainfall\"]>0]\n",
    "print(f\"{rainyfall[[\"Date\",\"Rainfall\"]]}\")"
   ]
  }
 ],
 "metadata": {
  "kernelspec": {
   "display_name": "Python 3",
   "language": "python",
   "name": "python3"
  },
  "language_info": {
   "codemirror_mode": {
    "name": "ipython",
    "version": 3
   },
   "file_extension": ".py",
   "mimetype": "text/x-python",
   "name": "python",
   "nbconvert_exporter": "python",
   "pygments_lexer": "ipython3",
   "version": "3.13.5"
  }
 },
 "nbformat": 4,
 "nbformat_minor": 5
}
